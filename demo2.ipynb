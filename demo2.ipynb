{
    "cells": [
        {
            "metadata": {},
            "cell_type": "code",
            "source": "\nimport os, types\nimport pandas as pd\nfrom botocore.client import Config\nimport ibm_boto3\n\ndef __iter__(self): return 0\n\n# @hidden_cell\n# The following code accesses a file in your IBM Cloud Object Storage. It includes your credentials.\n# You might want to remove those credentials before you share the notebook.\ncos_client = ibm_boto3.client(service_name='s3',\n    ibm_api_key_id='Gia3zBNDTTZgbbmr3kkuHAkSTyZhMGWSpLmU8MfEOHiE',\n    ibm_auth_endpoint=\"https://iam.cloud.ibm.com/oidc/token\",\n    config=Config(signature_version='oauth'),\n    endpoint_url='https://s3.private.eu-gb.cloud-object-storage.appdomain.cloud')\n\nbucket = 'rajj-donotdelete-pr-q3xhrh0ylq49mu'\nobject_key = 'list_of_states_in_india-28j.csv'\n\nbody = cos_client.get_object(Bucket=bucket,Key=object_key)['Body']\n# add missing __iter__ method, so pandas accepts body as file-like object\nif not hasattr(body, \"__iter__\"): body.__iter__ = types.MethodType( __iter__, body )\n\ndf_data_1 = pd.read_csv(body)\ndf_data_1.head()\n\n",
            "execution_count": 1,
            "outputs": [
                {
                    "output_type": "execute_result",
                    "execution_count": 1,
                    "data": {
                        "text/plain": "  S.No.              State    ISO    Capital           Zone   Largest city  \\\n0     1     Andhra Pradesh  IN-AP  Amaravati       Southern  Visakhapatnam   \n1     2  Arunachal Pradesh  IN-AR   Itanagar  North-Eastern       Itanagar   \n2     3              Assam  IN-AS     Dispur  North-Eastern       Guwahati   \n3     4              Bihar  IN-BR      Patna        Eastern          Patna   \n4     5       Chhattisgarh  IN-CT     Raipur        Central         Raipur   \n\n          Statehood Population (2011) Area (km2) Official languages  \\\n0   1 November 1956        49,506,799    162,975             Telugu   \n1  20 February 1987         1,383,727     83,743            English   \n2   26 January 1950        31,205,576     78,550           Assamese   \n3   26 January 1950       104,099,452     94,163              Hindi   \n4   1 November 2000        25,545,198    135,194              Hindi   \n\n  Additional official languages Vehicle code  \n0                          Urdu           AP  \n1                             \u2014           AR  \n2                 Bengali, Bodo           AS  \n3                          Urdu           BR  \n4                 Chhattisgarhi           CG  ",
                        "text/html": "<div>\n<style scoped>\n    .dataframe tbody tr th:only-of-type {\n        vertical-align: middle;\n    }\n\n    .dataframe tbody tr th {\n        vertical-align: top;\n    }\n\n    .dataframe thead th {\n        text-align: right;\n    }\n</style>\n<table border=\"1\" class=\"dataframe\">\n  <thead>\n    <tr style=\"text-align: right;\">\n      <th></th>\n      <th>S.No.</th>\n      <th>State</th>\n      <th>ISO</th>\n      <th>Capital</th>\n      <th>Zone</th>\n      <th>Largest city</th>\n      <th>Statehood</th>\n      <th>Population (2011)</th>\n      <th>Area (km2)</th>\n      <th>Official languages</th>\n      <th>Additional official languages</th>\n      <th>Vehicle code</th>\n    </tr>\n  </thead>\n  <tbody>\n    <tr>\n      <th>0</th>\n      <td>1</td>\n      <td>Andhra Pradesh</td>\n      <td>IN-AP</td>\n      <td>Amaravati</td>\n      <td>Southern</td>\n      <td>Visakhapatnam</td>\n      <td>1 November 1956</td>\n      <td>49,506,799</td>\n      <td>162,975</td>\n      <td>Telugu</td>\n      <td>Urdu</td>\n      <td>AP</td>\n    </tr>\n    <tr>\n      <th>1</th>\n      <td>2</td>\n      <td>Arunachal Pradesh</td>\n      <td>IN-AR</td>\n      <td>Itanagar</td>\n      <td>North-Eastern</td>\n      <td>Itanagar</td>\n      <td>20 February 1987</td>\n      <td>1,383,727</td>\n      <td>83,743</td>\n      <td>English</td>\n      <td>\u2014</td>\n      <td>AR</td>\n    </tr>\n    <tr>\n      <th>2</th>\n      <td>3</td>\n      <td>Assam</td>\n      <td>IN-AS</td>\n      <td>Dispur</td>\n      <td>North-Eastern</td>\n      <td>Guwahati</td>\n      <td>26 January 1950</td>\n      <td>31,205,576</td>\n      <td>78,550</td>\n      <td>Assamese</td>\n      <td>Bengali, Bodo</td>\n      <td>AS</td>\n    </tr>\n    <tr>\n      <th>3</th>\n      <td>4</td>\n      <td>Bihar</td>\n      <td>IN-BR</td>\n      <td>Patna</td>\n      <td>Eastern</td>\n      <td>Patna</td>\n      <td>26 January 1950</td>\n      <td>104,099,452</td>\n      <td>94,163</td>\n      <td>Hindi</td>\n      <td>Urdu</td>\n      <td>BR</td>\n    </tr>\n    <tr>\n      <th>4</th>\n      <td>5</td>\n      <td>Chhattisgarh</td>\n      <td>IN-CT</td>\n      <td>Raipur</td>\n      <td>Central</td>\n      <td>Raipur</td>\n      <td>1 November 2000</td>\n      <td>25,545,198</td>\n      <td>135,194</td>\n      <td>Hindi</td>\n      <td>Chhattisgarhi</td>\n      <td>CG</td>\n    </tr>\n  </tbody>\n</table>\n</div>"
                    },
                    "metadata": {}
                }
            ]
        },
        {
            "metadata": {},
            "cell_type": "code",
            "source": "",
            "execution_count": null,
            "outputs": []
        }
    ],
    "metadata": {
        "kernelspec": {
            "name": "python3",
            "display_name": "Python 3.10",
            "language": "python"
        },
        "language_info": {
            "name": "python",
            "version": "3.10.13",
            "mimetype": "text/x-python",
            "codemirror_mode": {
                "name": "ipython",
                "version": 3
            },
            "pygments_lexer": "ipython3",
            "nbconvert_exporter": "python",
            "file_extension": ".py"
        }
    },
    "nbformat": 4,
    "nbformat_minor": 1
}